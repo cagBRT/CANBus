{
  "nbformat": 4,
  "nbformat_minor": 0,
  "metadata": {
    "colab": {
      "name": "CANBUS.ipynb",
      "provenance": [],
      "private_outputs": true,
      "authorship_tag": "ABX9TyMmA1T/xTCCRZKzMBO1PTCH",
      "include_colab_link": true
    },
    "kernelspec": {
      "name": "python3",
      "display_name": "Python 3"
    }
  },
  "cells": [
    {
      "cell_type": "markdown",
      "metadata": {
        "id": "view-in-github",
        "colab_type": "text"
      },
      "source": [
        "<a href=\"https://colab.research.google.com/github/cagBRT/CANBus/blob/main/CANBUS.ipynb\" target=\"_parent\"><img src=\"https://colab.research.google.com/assets/colab-badge.svg\" alt=\"Open In Colab\"/></a>"
      ]
    },
    {
      "cell_type": "code",
      "metadata": {
        "id": "sZbAApUf15Ni"
      },
      "source": [
        "!git clone -l -s https://github.com/cagBRT/CANBus.git cloned-repo\n",
        "%cd cloned-repo\n",
        "!ls"
      ],
      "execution_count": null,
      "outputs": []
    },
    {
      "cell_type": "markdown",
      "metadata": {
        "id": "Qm2k3Qu1s0HD"
      },
      "source": [
        "Program to compare two CAN Bus output files"
      ]
    },
    {
      "cell_type": "code",
      "metadata": {
        "id": "FPX7FHVUsyMb"
      },
      "source": [
        "import re"
      ],
      "execution_count": null,
      "outputs": []
    },
    {
      "cell_type": "markdown",
      "metadata": {
        "id": "OSCA8OlctFyx"
      },
      "source": [
        "Classes"
      ]
    },
    {
      "cell_type": "code",
      "metadata": {
        "id": "7WqjKO87tHbh"
      },
      "source": [
        "class CANLine:\n",
        "    def __init__(self, time, channel, messID, pld):\n",
        "        self.time = time\n",
        "        self.channel = channel\n",
        "        self.messID = messID\n",
        "        self.pld = pld"
      ],
      "execution_count": null,
      "outputs": []
    },
    {
      "cell_type": "code",
      "metadata": {
        "id": "c8XszdcmtTxU"
      },
      "source": [
        "class MessageObj:\n",
        "    def __init__(self, mID, pLD):\n",
        "        self.mID = mID\n",
        "        self.pLD = pLD"
      ],
      "execution_count": null,
      "outputs": []
    },
    {
      "cell_type": "markdown",
      "metadata": {
        "id": "kvaQ_ucFtZPS"
      },
      "source": [
        "Helper functions"
      ]
    },
    {
      "cell_type": "code",
      "metadata": {
        "id": "cyqIqgKbtbPm"
      },
      "source": [
        "def procCAN(line):\n",
        "    m = re.compile(\n",
        "        '(?P<Time>[+-]?\\d*\\.?\\d+)[ ]+(?P<BusID>\\d+)[ ]+(?P<MessageID>[0-9A-Fa-f]+)(?P<ExtendedFlag>x|)[ ]+(?P<Transceive>[RT]x)[ ]+d[ ]+(?P<ByteLength>\\d+)(?P<Data>(?: [0-9A-Fa-f]{2})+).*')\n",
        "    g = m.search(line)\n",
        "    if g:\n",
        "        time = g.group(1)\n",
        "        channel = g.group(2)\n",
        "        messID = (g.group(3) + g.group(4))\n",
        "        pld = g.group(7)\n",
        "        canList.append(CANLine(time, channel, messID, pld))"
      ],
      "execution_count": null,
      "outputs": []
    },
    {
      "cell_type": "markdown",
      "metadata": {
        "id": "Ej1Uy_YDtlM3"
      },
      "source": [
        "Read the file into a list called canList"
      ]
    },
    {
      "cell_type": "code",
      "metadata": {
        "id": "R8b8I3BEtnRc"
      },
      "source": [
        "#You must request access to this file from catherine.gamboa@bluerivertech.com\n",
        "#You must be a BRT or JD employee\n",
        "file = 'Loggerc4-00-ad-16-95-7a_2020-09-06_180558_00066_can_split_00001.asc'"
      ],
      "execution_count": null,
      "outputs": []
    },
    {
      "cell_type": "code",
      "metadata": {
        "id": "-VLHOQxAwD8t"
      },
      "source": [
        "canList = list()\n",
        "trueBus = list()  # VehB1\n",
        "spoofBus = list() # HAD2"
      ],
      "execution_count": null,
      "outputs": []
    },
    {
      "cell_type": "code",
      "metadata": {
        "id": "bIA_HjW3tuff"
      },
      "source": [
        "with open(file, 'r') as f:\n",
        "    while True:\n",
        "        line = f.readline()\n",
        "        if not line:\n",
        "            break\n",
        "        else:\n",
        "            procCAN(line)"
      ],
      "execution_count": null,
      "outputs": []
    },
    {
      "cell_type": "code",
      "metadata": {
        "id": "G-5QRHLZt2Hv"
      },
      "source": [
        "# List contains every CAN line as an object\n",
        "#   This is also working for lines that have a data payload of 3\n",
        "print(\"The length of the list is: \" + str(len(canList)))\n",
        "#The structure of the data is\n",
        "#Time Channel MessageID PLD\n",
        "#For example row 244 has the following values\n",
        "print(\"Time column: \",canList[244].time)\n",
        "print(\"Channel column: \",canList[244].channel)\n",
        "print(\"Message ID column: \",canList[244].messID)\n",
        "print(\"Payload Column:\",canList[244].pld)\n"
      ],
      "execution_count": null,
      "outputs": []
    },
    {
      "cell_type": "code",
      "metadata": {
        "id": "I65HcF6tsPhJ"
      },
      "source": [
        "# ****************************************************** Time Comparison ******************************************************************************************\n",
        "# Create a list of times from each CAN Channel of interest and then \n",
        "#finds the time difference which will be added to a list and \n",
        "#then calculate the average of diff list\n",
        "\n",
        "for item in canList:\n",
        "    if item.channel == '20':\n",
        "        trueBus.append(item)\n",
        "    elif item.channel == '23':\n",
        "        spoofBus.append(item)\n",
        "    else:\n",
        "        pass\n",
        "\n",
        "# It looks like spoof bus missed one single message from VehB1 but that could be from right where I cut off the log potentiially\n",
        "#   I was never able to run a good count non-programmatically on the file to verify these numbers but I am confident\n",
        "#print('Found ' + str(trueBus.__len__()) + ' items for VehB1') # 6370\n",
        "#print('Found ' + str(spoofBus.__len__()) + ' items for HAD2') # 6369\n",
        "\n",
        "tbTimes = list()\n",
        "sbTimes = list()\n",
        "timeDiff = list()\n",
        "\n",
        "for item in trueBus:\n",
        "    tbTimes.append(item.time)\n",
        "for item in spoofBus:\n",
        "    sbTimes.append(item.time)\n",
        "\n",
        "for t, s in zip(tbTimes, sbTimes):\n",
        "    difference = float(s) - float(t)\n",
        "    timeDiff.append(difference)\n",
        "\n",
        "# Verified that timeDiff does have 6369 elements\n",
        "timeDiffAVG = sum(timeDiff) / len(timeDiff)\n",
        "\n",
        "\n",
        "\n",
        "# ****************************************************** Copy Integrity and Outliers *********************************************\n",
        "\n",
        "# Need to do Message ID and Payload\n",
        "\n",
        "\n",
        "tbM = list()\n",
        "sbM = list()\n",
        "\n",
        "for item in trueBus:\n",
        "    tbM.append(MessageObj(item.messID, item.pld))\n",
        "for item in spoofBus:\n",
        "    sbM.append(MessageObj(item.messID, item.pld))\n",
        "\n",
        "errorCount = 0\n",
        "\n",
        "for t, s in zip(tbM, sbM):\n",
        "    if t.mID == s.mID and t.pLD == s.pLD:\n",
        "        print(\"************** Success ********************\")\n",
        "        print(\"Spoof Info\")\n",
        "        print(s.mID)\n",
        "        print(s.pLD)\n",
        "        print(\"True Info\")\n",
        "        print(t.mID)\n",
        "        print(t.pLD)\n",
        "        print('*****************************************')\n",
        "    else:\n",
        "        errorCount += 1\n",
        "        print(\"************** Error ********************\")\n",
        "        print(\"Spoof Info\")\n",
        "        print(s.mID)\n",
        "        print(s.pLD)\n",
        "        print(\"True Info\")\n",
        "        print(t.mID)\n",
        "        print(t.pLD)\n",
        "        print('*****************************************')\n",
        "\n",
        "print(\"***************************************Final Results***********************************************************\")\n",
        "print(\"The average time difference between the spoofed bus and the production bus is: \" + str(timeDiffAVG) + ' seconds')\n",
        "print(str(errorCount) + ' messages were seen as not a direct copy')\n",
        "messCountDiff = trueBus.__len__() - spoofBus.__len__()\n",
        "print(str(messCountDiff) + ' message was found on the production bus that was not spoofed to the instrumentation bus')\n",
        "\n",
        "\n",
        "\n"
      ],
      "execution_count": null,
      "outputs": []
    }
  ]
}